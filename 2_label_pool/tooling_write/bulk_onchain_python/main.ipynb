{
 "cells": [
  {
   "cell_type": "markdown",
   "metadata": {},
   "source": [
    "# Onchain Attest Labels Using Python"
   ]
  },
  {
   "cell_type": "code",
   "execution_count": null,
   "metadata": {},
   "outputs": [
    {
     "name": "stdout",
     "output_type": "stream",
     "text": [
      "Transaction successful with hash: 0x3d5c0f1baec2d4b7aca7f694246def3c3572b0dda1cbd846a5a0181c7a907a59\n"
     ]
    }
   ],
   "source": [
    "from web3 import Web3\n",
    "from eth_abi.abi import encode\n",
    "import json\n",
    "\n",
    "# Connect to an Ethereum node\n",
    "rpc = 'https://sepolia.base.org' # for Base use: https://mainnet.base.org\n",
    "web3 = Web3(Web3.HTTPProvider(rpc))\n",
    "\n",
    "# Check if connected to the node\n",
    "if not web3.is_connected():\n",
    "    raise Exception(\"Failed to connect to the Ethereum node\")\n",
    "\n",
    "# Load the EAS contract\n",
    "from eas_contracts import eas_address, eas_abi\n",
    "eas = web3.eth.contract(address=eas_address, abi=eas_abi)\n",
    "\n",
    "# Import your wallet\n",
    "address = '...'\n",
    "private_key = '...'\n",
    "\n",
    "# Label Pool Schema v1.0.0\n",
    "schema = '0xb763e62d940bed6f527dd82418e146a904e62a297b8fa765c9b3e1f0bc6fdd68'\n",
    "\n",
    "# Input the label in OLI format:\n",
    "#   chain_id should follow the CAIP-2 standard\n",
    "#   contract_address should be the address of the contract you want to label\n",
    "#   tags_json should be a JSON string\n",
    "chain_id = 'eip:8453'\n",
    "contract_address = '0x498581ff718922c3f8e6a244956af099b2652b2b'\n",
    "tags_json = json.dumps(\n",
    "                {'contract_name': 'Pool Manager v4',\n",
    "                'project': 'PoolTogether',\n",
    "                'is_eoa': False, \n",
    "                'deployment_tx': '0x25f482fbd94cdea11b018732e455b8e9a940b933cabde3c0c5dd63ea65e85349',\n",
    "                'deployer_address': '0x2179a60856E37dfeAacA0ab043B931fE224b27B6',\n",
    "                'owner_project': 'uniswap',\n",
    "                'version': 4,\n",
    "                'deployment_date': '2025-01-21 20:28:43',\n",
    "                'source_code_verified': 'https://repo.sourcify.dev/contracts/partial_match/8453/0x498581fF718922c3f8e6A244956aF099B2652b2b/',\n",
    "                'is_proxy': False}\n",
    "            )\n",
    "\n",
    "# ABI encode\n",
    "encoded_data = encode(['string', 'string'], [chain_id, tags_json])\n",
    "data = f\"0x{encoded_data.hex()}\"\n",
    "\n",
    "# Create the transaction to call the attest function\n",
    "transaction = eas.functions.attest({\n",
    "    'schema': web3.to_bytes(hexstr=schema),\n",
    "    'data': {\n",
    "        'recipient': web3.to_checksum_address(contract_address),\n",
    "        'expirationTime': 0,\n",
    "        'revocable': True,\n",
    "        'refUID': web3.to_bytes(hexstr='0x0000000000000000000000000000000000000000000000000000000000000000'),\n",
    "        'data': web3.to_bytes(hexstr=data),\n",
    "        'value': 0\n",
    "    }\n",
    "}).build_transaction({\n",
    "    'chainId': 84532, # for Base use: 8453 \n",
    "    'gas': 1000000,\n",
    "    'gasPrice': web3.eth.gas_price,\n",
    "    'nonce': web3.eth.get_transaction_count(address),\n",
    "})\n",
    "\n",
    "# Sign the transaction\n",
    "signed_txn = web3.eth.account.sign_transaction(transaction, private_key=private_key)\n",
    "\n",
    "# Send the transaction\n",
    "txn_hash = web3.eth.send_raw_transaction(signed_txn.raw_transaction)\n",
    "\n",
    "# Get the transaction receipt\n",
    "txn_receipt = web3.eth.wait_for_transaction_receipt(txn_hash)\n",
    "\n",
    "print(f'Transaction successful with hash: 0x{txn_hash.hex()}')"
   ]
  }
 ],
 "metadata": {
  "kernelspec": {
   "display_name": ".venv",
   "language": "python",
   "name": "python3"
  },
  "language_info": {
   "codemirror_mode": {
    "name": "ipython",
    "version": 3
   },
   "file_extension": ".py",
   "mimetype": "text/x-python",
   "name": "python",
   "nbconvert_exporter": "python",
   "pygments_lexer": "ipython3",
   "version": "3.12.7"
  }
 },
 "nbformat": 4,
 "nbformat_minor": 2
}
