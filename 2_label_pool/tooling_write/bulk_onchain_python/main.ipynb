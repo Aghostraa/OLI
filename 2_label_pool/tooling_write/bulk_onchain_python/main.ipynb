{
 "cells": [
  {
   "cell_type": "markdown",
   "metadata": {},
   "source": [
    "# Onchain Attest Labels Using Python"
   ]
  },
  {
   "cell_type": "markdown",
   "metadata": {},
   "source": [
    "### Single Attest"
   ]
  },
  {
   "cell_type": "code",
   "execution_count": null,
   "metadata": {},
   "outputs": [
    {
     "name": "stdout",
     "output_type": "stream",
     "text": [
      "Transaction successful with hash: 0xe6cf4e7ceb2589940e7d9f86d60be3124c942bb8d2d82b01939fe86fa9d188cd\n"
     ]
    }
   ],
   "source": [
    "from web3 import Web3\n",
    "from eth_abi.abi import encode\n",
    "import json\n",
    "\n",
    "# Connect to an Ethereum node\n",
    "rpc = 'https://sepolia.base.org' # for Base use: https://mainnet.base.org\n",
    "web3 = Web3(Web3.HTTPProvider(rpc))\n",
    "\n",
    "# Check if connected to the node\n",
    "if not web3.is_connected():\n",
    "    raise Exception(\"Failed to connect to the Ethereum node\")\n",
    "\n",
    "# Load the EAS contract\n",
    "from eas_contracts import eas_address, eas_abi\n",
    "eas = web3.eth.contract(address=eas_address, abi=eas_abi)\n",
    "\n",
    "# Import your wallet\n",
    "address = '...' #### fill in here!\n",
    "private_key = '...' #### fill in here!\n",
    "\n",
    "# Label Pool Schema v1.0.0\n",
    "schema = '0xb763e62d940bed6f527dd82418e146a904e62a297b8fa765c9b3e1f0bc6fdd68'\n",
    "\n",
    "# Input the label in OLI format:\n",
    "#   chain_id should follow the CAIP-2 standard\n",
    "#   contract_address should be the address of the contract you want to label\n",
    "#   tags_json should be a JSON string\n",
    "chain_id = 'eip:8453'\n",
    "contract_address = '0x498581ff718922c3f8e6a244956af099b2652b2b'\n",
    "ref_uid = '0x0000000000000000000000000000000000000000000000000000000000000000'\n",
    "tags_json = json.dumps(\n",
    "                {'contract_name': 'Pool Manager v4',\n",
    "                'project': 'PoolTogether',\n",
    "                'is_eoa': False, \n",
    "                'deployment_tx': '0x25f482fbd94cdea11b018732e455b8e9a940b933cabde3c0c5dd63ea65e85349',\n",
    "                'deployer_address': '0x2179a60856E37dfeAacA0ab043B931fE224b27B6',\n",
    "                'owner_project': 'uniswap',\n",
    "                'version': 4,\n",
    "                'deployment_date': '2025-01-21 20:28:43',\n",
    "                'source_code_verified': 'https://repo.sourcify.dev/contracts/partial_match/8453/0x498581fF718922c3f8e6A244956aF099B2652b2b/',\n",
    "                'is_proxy': False}\n",
    "            )\n",
    "\n",
    "# ABI encode\n",
    "encoded_data = encode(['string', 'string'], [chain_id, tags_json])\n",
    "data = f\"0x{encoded_data.hex()}\"\n",
    "\n",
    "# Create the transaction to call the attest function\n",
    "transaction = eas.functions.attest({\n",
    "    'schema': web3.to_bytes(hexstr=schema),\n",
    "    'data': {\n",
    "        'recipient': web3.to_checksum_address(contract_address),\n",
    "        'expirationTime': 0,\n",
    "        'revocable': True,\n",
    "        'refUID': web3.to_bytes(hexstr=ref_uid),\n",
    "        'data': web3.to_bytes(hexstr=data),\n",
    "        'value': 0\n",
    "    }\n",
    "}).build_transaction({\n",
    "    'chainId': 84532, # for Base use: 8453 \n",
    "    'gas': 1000000,\n",
    "    'gasPrice': web3.eth.gas_price,\n",
    "    'nonce': web3.eth.get_transaction_count(address),\n",
    "})\n",
    "\n",
    "# Sign the transaction\n",
    "signed_txn = web3.eth.account.sign_transaction(transaction, private_key=private_key)\n",
    "\n",
    "# Send the transaction\n",
    "txn_hash = web3.eth.send_raw_transaction(signed_txn.raw_transaction)\n",
    "\n",
    "# Get the transaction receipt\n",
    "txn_receipt = web3.eth.wait_for_transaction_receipt(txn_hash)\n",
    "\n",
    "print(f'Transaction successful with hash: 0x{txn_hash.hex()}')"
   ]
  },
  {
   "cell_type": "markdown",
   "metadata": {},
   "source": [
    "### Calculate UID"
   ]
  },
  {
   "cell_type": "code",
   "execution_count": 3,
   "metadata": {},
   "outputs": [
    {
     "name": "stdout",
     "output_type": "stream",
     "text": [
      "Calculated UID: 0x0964fa16b14cd86b3e83187ba43fa6921d30ddf228084e15e1c029c556600ceb\n"
     ]
    }
   ],
   "source": [
    "def calculate_attestation_uid(schema, recipient, attester, timestamp, data, expiration_time=0, revocable=True, ref_uid=ref_uid, bump=0):\n",
    "    # Convert all values to bytes\n",
    "    schema_bytes = Web3.to_bytes(hexstr=schema)\n",
    "    recipient_bytes = Web3.to_bytes(hexstr=recipient)\n",
    "    attester_bytes = Web3.to_bytes(hexstr=attester)\n",
    "    ref_uid_bytes = Web3.to_bytes(hexstr=ref_uid)\n",
    "    data_bytes = Web3.to_bytes(hexstr=data)\n",
    "    revocable_bytes = bytes([1]) if revocable else bytes([0])\n",
    "    timestamp_bytes = timestamp.to_bytes(8, byteorder='big')\n",
    "    expiration_bytes = expiration_time.to_bytes(8, byteorder='big')\n",
    "    bump_bytes = bump.to_bytes(4, byteorder='big') \n",
    "    # Pack all the values together in the same order as the Solidity contract\n",
    "    packed_data = (schema_bytes + recipient_bytes + attester_bytes + timestamp_bytes + expiration_bytes + revocable_bytes + ref_uid_bytes + data_bytes + bump_bytes)\n",
    "    # Calculate keccak256 hash\n",
    "    uid = Web3.keccak(packed_data)\n",
    "    return uid\n",
    "\n",
    "# get the timestamp from the transaction receipt\n",
    "timestamp = web3.eth.get_block(txn_receipt['blockNumber'])['timestamp']\n",
    "\n",
    "# Calculate UID (legacy)\n",
    "uid = calculate_attestation_uid(schema, contract_address, address, timestamp, data)\n",
    "uid_hex = '0x' + uid.hex()\n",
    "\n",
    "print(f\"Calculated UID: {uid_hex}\")"
   ]
  },
  {
   "cell_type": "code",
   "execution_count": 4,
   "metadata": {},
   "outputs": [
    {
     "data": {
      "text/plain": [
       "(b'\\td\\xfa\\x16\\xb1L\\xd8k>\\x83\\x18{\\xa4?\\xa6\\x92\\x1d0\\xdd\\xf2(\\x08N\\x15\\xe1\\xc0)\\xc5V`\\x0c\\xeb',\n",
       " b'\\xb7c\\xe6-\\x94\\x0b\\xedoR}\\xd8$\\x18\\xe1F\\xa9\\x04\\xe6*){\\x8f\\xa7e\\xc9\\xb3\\xe1\\xf0\\xbco\\xddh',\n",
       " 1741775086,\n",
       " 0,\n",
       " 0,\n",
       " b'\\x00\\x00\\x00\\x00\\x00\\x00\\x00\\x00\\x00\\x00\\x00\\x00\\x00\\x00\\x00\\x00\\x00\\x00\\x00\\x00\\x00\\x00\\x00\\x00\\x00\\x00\\x00\\x00\\x00\\x00\\x00\\x00',\n",
       " '0x498581fF718922c3f8e6A244956aF099B2652b2b',\n",
       " '0x732D31D49467c08F41fD0727537995ea45dD4Ba7',\n",
       " True,\n",
       " b'\\x00\\x00\\x00\\x00\\x00\\x00\\x00\\x00\\x00\\x00\\x00\\x00\\x00\\x00\\x00\\x00\\x00\\x00\\x00\\x00\\x00\\x00\\x00\\x00\\x00\\x00\\x00\\x00\\x00\\x00\\x00@\\x00\\x00\\x00\\x00\\x00\\x00\\x00\\x00\\x00\\x00\\x00\\x00\\x00\\x00\\x00\\x00\\x00\\x00\\x00\\x00\\x00\\x00\\x00\\x00\\x00\\x00\\x00\\x00\\x00\\x00\\x00\\x80\\x00\\x00\\x00\\x00\\x00\\x00\\x00\\x00\\x00\\x00\\x00\\x00\\x00\\x00\\x00\\x00\\x00\\x00\\x00\\x00\\x00\\x00\\x00\\x00\\x00\\x00\\x00\\x00\\x00\\x00\\x00\\x08eip:8453\\x00\\x00\\x00\\x00\\x00\\x00\\x00\\x00\\x00\\x00\\x00\\x00\\x00\\x00\\x00\\x00\\x00\\x00\\x00\\x00\\x00\\x00\\x00\\x00\\x00\\x00\\x00\\x00\\x00\\x00\\x00\\x00\\x00\\x00\\x00\\x00\\x00\\x00\\x00\\x00\\x00\\x00\\x00\\x00\\x00\\x00\\x00\\x00\\x00\\x00\\x00\\x00\\x00\\x00\\x01\\xce{\"contract_name\": \"Pool Manager v4\", \"project\": \"PoolTogether\", \"is_eoa\": false, \"deployment_tx\": \"0x25f482fbd94cdea11b018732e455b8e9a940b933cabde3c0c5dd63ea65e85349\", \"deployer_address\": \"0x2179a60856E37dfeAacA0ab043B931fE224b27B6\", \"owner_project\": \"uniswap\", \"version\": 4, \"deployment_date\": \"2025-01-21 20:28:43\", \"source_code_verified\": \"https://repo.sourcify.dev/contracts/partial_match/8453/0x498581fF718922c3f8e6A244956aF099B2652b2b/\", \"is_proxy\": false}\\x00\\x00\\x00\\x00\\x00\\x00\\x00\\x00\\x00\\x00\\x00\\x00\\x00\\x00\\x00\\x00\\x00\\x00')"
      ]
     },
     "execution_count": 4,
     "metadata": {},
     "output_type": "execute_result"
    }
   ],
   "source": [
    "# getAttestation\n",
    "eas.functions.getAttestation(web3.to_bytes(hexstr=uid_hex)).call()"
   ]
  },
  {
   "cell_type": "code",
   "execution_count": 5,
   "metadata": {},
   "outputs": [
    {
     "data": {
      "text/plain": [
       "True"
      ]
     },
     "execution_count": 5,
     "metadata": {},
     "output_type": "execute_result"
    }
   ],
   "source": [
    "# isAttestationValid\n",
    "eas.functions.isAttestationValid(web3.to_bytes(hexstr=uid_hex)).call()"
   ]
  },
  {
   "cell_type": "markdown",
   "metadata": {},
   "source": [
    "### Single Revoke"
   ]
  },
  {
   "cell_type": "code",
   "execution_count": 6,
   "metadata": {},
   "outputs": [
    {
     "name": "stdout",
     "output_type": "stream",
     "text": [
      "Transaction successful with hash: 0x71e81b77c9b22851ec8a8e8a074af4a24a3916bef3a218003784124b9c6cbe50\n"
     ]
    }
   ],
   "source": [
    "# Create the transaction to revoke an attestation\n",
    "transaction = eas.functions.revoke({\n",
    "    'schema': web3.to_bytes(hexstr=schema),\n",
    "    'data': {\n",
    "        'uid': web3.to_bytes(hexstr=uid_hex),\n",
    "        'value': 0\n",
    "    }\n",
    "}).build_transaction({\n",
    "    'chainId': 84532, # for Base use: 8453 \n",
    "    'gas': 1000000,\n",
    "    'gasPrice': web3.eth.gas_price,\n",
    "    'nonce': web3.eth.get_transaction_count(address),\n",
    "})\n",
    "\n",
    "# Sign the transaction\n",
    "signed_txn = web3.eth.account.sign_transaction(transaction, private_key=private_key)\n",
    "\n",
    "# Send the transaction\n",
    "txn_hash = web3.eth.send_raw_transaction(signed_txn.raw_transaction)\n",
    "\n",
    "# Get the transaction receipt\n",
    "txn_receipt = web3.eth.wait_for_transaction_receipt(txn_hash)\n",
    "\n",
    "print(f'Transaction successful with hash: 0x{txn_hash.hex()}')"
   ]
  }
 ],
 "metadata": {
  "kernelspec": {
   "display_name": ".venv",
   "language": "python",
   "name": "python3"
  },
  "language_info": {
   "codemirror_mode": {
    "name": "ipython",
    "version": 3
   },
   "file_extension": ".py",
   "mimetype": "text/x-python",
   "name": "python",
   "nbconvert_exporter": "python",
   "pygments_lexer": "ipython3",
   "version": "3.12.7"
  }
 },
 "nbformat": 4,
 "nbformat_minor": 2
}
