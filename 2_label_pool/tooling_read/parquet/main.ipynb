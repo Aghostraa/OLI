{
 "cells": [
  {
   "cell_type": "markdown",
   "metadata": {},
   "source": [
    "# Label Pool Parquet Exports"
   ]
  },
  {
   "cell_type": "code",
   "execution_count": 2,
   "metadata": {},
   "outputs": [],
   "source": [
    "import pandas as pd\n",
    "import requests\n",
    "\n",
    "# API Endpoints\n",
    "RAW_URL = \"https://api.growthepie.xyz/v1/oli/labels_raw.parquet\"\n",
    "DECODED_URL = \"https://api.growthepie.xyz/v1/oli/labels_decoded.parquet\"\n",
    "\n",
    "def download_parquet(url, file_path):\n",
    "    \"\"\"Downloads a parquet file from a URL and saves it locally.\"\"\"\n",
    "    response = requests.get(url, stream=True)\n",
    "    if response.status_code == 200:\n",
    "        with open(file_path, 'wb') as f:\n",
    "            f.write(response.content)\n",
    "        print(f\"Downloaded and saved: {file_path}\")\n",
    "    else:\n",
    "        print(f\"Failed to download {url}. Status code: {response.status_code}\")\n"
   ]
  },
  {
   "cell_type": "code",
   "execution_count": null,
   "metadata": {},
   "outputs": [],
   "source": [
    "# Download RAW_URL parquet files\n",
    "download_parquet(RAW_URL, \"labels_raw.parquet\")\n",
    "\n",
    "# Load into Pandas raw_df\n",
    "raw_df = pd.read_parquet(\"labels_raw.parquet\")\n",
    "\n",
    "# Display raw_df\n",
    "print(\"Raw DataFrame:\")\n",
    "print(raw_df.head())"
   ]
  },
  {
   "cell_type": "code",
   "execution_count": null,
   "metadata": {},
   "outputs": [],
   "source": [
    "# Download DECODED_URL parquet files\n",
    "download_parquet(DECODED_URL, \"labels_decoded.parquet\")\n",
    "\n",
    "# Load into Pandas decoded_df\n",
    "decoded_df = pd.read_parquet(\"labels_decoded.parquet\")\n",
    "\n",
    "# Display decoded_df\n",
    "print(\"Decoded DataFrame:\")\n",
    "print(decoded_df.head())"
   ]
  }
 ],
 "metadata": {
  "kernelspec": {
   "display_name": ".venv",
   "language": "python",
   "name": "python3"
  },
  "language_info": {
   "codemirror_mode": {
    "name": "ipython",
    "version": 3
   },
   "file_extension": ".py",
   "mimetype": "text/x-python",
   "name": "python",
   "nbconvert_exporter": "python",
   "pygments_lexer": "ipython3",
   "version": "3.12.7"
  }
 },
 "nbformat": 4,
 "nbformat_minor": 2
}
